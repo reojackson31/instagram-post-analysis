{
 "cells": [
  {
   "cell_type": "markdown",
   "metadata": {},
   "source": [
    "# Analysis of Instagram posts (pictures) using Google Vision API"
   ]
  },
  {
   "cell_type": "markdown",
   "metadata": {},
   "source": [
    "## Step1: Data Preparation for Analysis"
   ]
  },
  {
   "cell_type": "markdown",
   "metadata": {},
   "source": [
    "### 1.1 Import Required Libraries"
   ]
  },
  {
   "cell_type": "code",
   "execution_count": 1,
   "metadata": {},
   "outputs": [],
   "source": [
    "import os\n",
    "import pandas as pd\n",
    "import instaloader\n",
    "from google.cloud import vision"
   ]
  },
  {
   "cell_type": "code",
   "execution_count": 2,
   "metadata": {},
   "outputs": [],
   "source": [
    "%%capture\n",
    "import numpy as np\n",
    "import matplotlib.pyplot as plt\n",
    "import seaborn as sns\n",
    "\n",
    "from sklearn.feature_extraction.text import TfidfVectorizer, CountVectorizer\n",
    "\n",
    "import re\n",
    "import nltk\n",
    "from nltk.corpus import stopwords\n",
    "from nltk.stem import PorterStemmer\n",
    "from nltk.stem import WordNetLemmatizer\n",
    "from nltk.tokenize import RegexpTokenizer\n",
    "nltk.download('wordnet')\n",
    "nltk.download('omw-1.4')\n",
    "nltk.download('punkt')\n",
    "stopword_list = stopwords.words('english')\n",
    "\n",
    "import spacy\n",
    "import spacy.cli\n",
    "spacy.cli.download(\"en_core_web_sm\")\n",
    "from spacy.lang.en import stop_words\n",
    "\n",
    "from gensim import corpora, models\n",
    "from gensim.models.coherencemodel import CoherenceModel\n",
    "\n",
    "import warnings\n",
    "warnings.filterwarnings('ignore')"
   ]
  },
  {
   "cell_type": "markdown",
   "metadata": {},
   "source": [
    "### 1.2 Function to detect labels using google vision api"
   ]
  },
  {
   "cell_type": "code",
   "execution_count": 2,
   "metadata": {},
   "outputs": [],
   "source": [
    "def detect_labels(path):\n",
    "    client = vision.ImageAnnotatorClient.from_service_account_file('gcloud-vision-key.json')\n",
    "    with open(path, \"rb\") as image_file:\n",
    "        content = image_file.read()\n",
    "    image = vision.Image(content=content)\n",
    "    response = client.label_detection(image=image)\n",
    "    labels = response.label_annotations\n",
    "\n",
    "    if response.error.message:\n",
    "        raise Exception(\n",
    "            \"{}\\nFor more info on error messages, check: \"\n",
    "            \"https://cloud.google.com/apis/design/errors\".format(response.error.message)\n",
    "        )\n",
    "    \n",
    "    return [label.description for label in labels]"
   ]
  },
  {
   "cell_type": "markdown",
   "metadata": {},
   "source": [
    "### 1.3 Function to extract required fields from the instagram dataset"
   ]
  },
  {
   "cell_type": "code",
   "execution_count": 3,
   "metadata": {},
   "outputs": [],
   "source": [
    "def data_prep_to_df(folder: str = \"Data\", metadata_ext: str = \".json.xz\"):\n",
    "    L = instaloader.Instaloader()\n",
    "    output_data = []\n",
    "\n",
    "    for inner_folder in os.listdir(folder):\n",
    "        files_in_folder = os.listdir(os.path.join(folder, inner_folder))\n",
    "        metadata_file = next((f for f in files_in_folder if f.endswith(metadata_ext)), None)\n",
    "        if not metadata_file:\n",
    "            continue\n",
    "\n",
    "        post_node = instaloader.structures.load_structure_from_file(\n",
    "            L.context,\n",
    "            os.path.join(folder, inner_folder, metadata_file)\n",
    "        )\n",
    "        \n",
    "        post_likes = post_node.likes\n",
    "        post_comments = post_node.comments\n",
    "        profile_followers = post_node.owner_profile.followers\n",
    "        post_caption = post_node.caption\n",
    "        \n",
    "        image_found = False\n",
    "        for filename in files_in_folder:\n",
    "            if (filename.endswith(\".png\") or filename.endswith(\".jpg\") or filename.endswith(\".jpeg\")) and not image_found:\n",
    "                image_location = os.path.join(folder, inner_folder, filename)\n",
    "                labels = detect_labels(image_location)\n",
    "                output_data.append([\n",
    "                    post_node.owner_profile.username, \n",
    "                    image_location,\n",
    "                    post_likes, \n",
    "                    post_comments,\n",
    "                    profile_followers,\n",
    "                    post_caption,\n",
    "                    labels\n",
    "                ])\n",
    "                image_found = True\n",
    "\n",
    "    df = pd.DataFrame(output_data, columns=[\"account_handle\", \"post_image_location\", \"post_likes\", \"post_comments\", \"profile_followers\", \"post_caption\", \"labels\"])\n",
    "    return df"
   ]
  },
  {
   "cell_type": "markdown",
   "metadata": {},
   "source": [
    "### 1.4 Save the results to a dataframe"
   ]
  },
  {
   "cell_type": "code",
   "execution_count": 4,
   "metadata": {},
   "outputs": [],
   "source": [
    "data = data_prep_to_df()"
   ]
  },
  {
   "cell_type": "markdown",
   "metadata": {},
   "source": [
    "### 1.5 Save the results to a dataframe\n",
    "\n",
    "This is done so that we don't have to run the google vision api again when the kernel is restarted and we can directly access the labels saved in the csv file."
   ]
  },
  {
   "cell_type": "code",
   "execution_count": 17,
   "metadata": {},
   "outputs": [],
   "source": [
    "data['labels_text'] = data['labels'].map(lambda x: \" \".join(x))\n",
    "data.to_csv('instagram_data_processed.csv', index=False)"
   ]
  },
  {
   "cell_type": "markdown",
   "metadata": {},
   "source": [
    "## Step2: Create the LDA Model"
   ]
  },
  {
   "cell_type": "code",
   "execution_count": 3,
   "metadata": {},
   "outputs": [],
   "source": [
    "#df = data.copy()\n",
    "df = pd.read_csv('instagram_data_processed.csv')"
   ]
  },
  {
   "cell_type": "markdown",
   "metadata": {},
   "source": [
    "### 2.1 Function for preprocessing text"
   ]
  },
  {
   "cell_type": "code",
   "execution_count": 4,
   "metadata": {},
   "outputs": [],
   "source": [
    "def text_preprocessing(description):\n",
    "    description = description.lower()\n",
    "    description = re.sub('[^a-zA-Z]', ' ', description)\n",
    "    description = re.sub(r'http\\S+', '', description)\n",
    "    description = re.sub(r'\\*\\*\\*\\*', '', description)\n",
    "    tokenizer = RegexpTokenizer(r'\\w+')\n",
    "    description_words = tokenizer.tokenize(description)\n",
    "    description_words = [word for word in description_words if word not in stopword_list]\n",
    "    description = ' '.join(description_words)\n",
    "    tokenizer = RegexpTokenizer(r'\\w+')\n",
    "    description_words = tokenizer.tokenize(description)\n",
    "    lemmatizer = WordNetLemmatizer()\n",
    "    description_words = [word for word in description_words if word not in stopword_list]\n",
    "    description_words = [lemmatizer.lemmatize(word) for word in description_words]\n",
    "    description = ' '.join(description_words)\n",
    "    return description"
   ]
  },
  {
   "cell_type": "code",
   "execution_count": 5,
   "metadata": {},
   "outputs": [],
   "source": [
    "df['labels_processed'] = df['labels_text'].apply(lambda x: text_preprocessing(x))"
   ]
  },
  {
   "cell_type": "markdown",
   "metadata": {},
   "source": [
    "### 2.2 Create the labels and dictionary in a format that can be used by gensim"
   ]
  },
  {
   "cell_type": "code",
   "execution_count": 8,
   "metadata": {},
   "outputs": [],
   "source": [
    "labels = [text.split() for text in df['labels_processed']]\n",
    "\n",
    "dictionary = corpora.Dictionary(labels)\n",
    "corpus = [dictionary.doc2bow(text) for text in labels]"
   ]
  },
  {
   "cell_type": "markdown",
   "metadata": {},
   "source": [
    "### 2.3 Finding optimal number of topics for LDA\n",
    "\n",
    "To determine the optimal number of topics for Latent Dirichlet Allocation (LDA) model, I am assessing models with varying numbers of topics ranging from 2 to 30. The coherence score, which measures the semantic similarity between high scoring words in the model, is used as the metric for this evaluation."
   ]
  },
  {
   "cell_type": "code",
   "execution_count": 14,
   "metadata": {},
   "outputs": [],
   "source": [
    "coherence_values = []\n",
    "model_list = []\n",
    "for num_topics in range(2, 31):\n",
    "    model = models.LdaMulticore(corpus=corpus, num_topics=num_topics, id2word=dictionary, passes=10, workers=4)\n",
    "    model_list.append(model)\n",
    "    coherencemodel = CoherenceModel(model=model, texts=labels, dictionary=dictionary, coherence='c_v')\n",
    "    coherence_values.append(coherencemodel.get_coherence())\n"
   ]
  },
  {
   "cell_type": "code",
   "execution_count": 20,
   "metadata": {},
   "outputs": [],
   "source": [
    "coherence_values = pd.DataFrame(coherence_values, columns=['coherence_value'])\n",
    "coherence_values['num_topics'] = range(2, 31)\n",
    "coherence_values.to_csv('coherence_values.csv', index=False)"
   ]
  },
  {
   "cell_type": "markdown",
   "metadata": {},
   "source": [
    "### 2.3.1 Plot Coherence Scores"
   ]
  },
  {
   "cell_type": "code",
   "execution_count": 18,
   "metadata": {},
   "outputs": [
    {
     "data": {
      "image/png": "[encoded data removed]",
      "text/plain": [
       "<Figure size 1000x500 with 1 Axes>"
      ]
     },
     "metadata": {},
     "output_type": "display_data"
    }
   ],
   "source": [
    "plt.figure(figsize=(10, 5))\n",
    "plt.plot(range(2, 31), coherence_values)\n",
    "plt.xlabel(\"Number of Topics\")\n",
    "plt.ylabel(\"Coherence score\")\n",
    "plt.title(\"Coherence Scores for Different Numbers of Topics\")\n",
    "plt.xticks(range(2, 31))\n",
    "plt.grid(False)\n",
    "plt.show()"
   ]
  },
  {
   "cell_type": "markdown",
   "metadata": {},
   "source": [
    "From the plot, we can see that using number of topics=15 had the highest coherence score of 0.541, which was slightly better than the 7-topics model, which scored 0.535. Despite the marginally higher coherence score of the 15-topic model, I have opted for the 7-topic model. The rationale for this decision is the hypothesis that a smaller number of topics can provide more clearer and insightful distinctions between different topics. In this approach, I\n",
    "am prioritizing depth and interpretability of results for actionable insights that can be given to the influencer based on this analysis."
   ]
  },
  {
   "cell_type": "markdown",
   "metadata": {},
   "source": [
    "## 2.4 LDA model with optimal number of topics"
   ]
  },
  {
   "cell_type": "code",
   "execution_count": 23,
   "metadata": {},
   "outputs": [],
   "source": [
    "lda_model = models.LdaMulticore(corpus=corpus, num_topics=7, id2word=dictionary, passes=10, workers=4)\n",
    "\n",
    "top_words_per_topic = []\n",
    "for t in range(lda_model.num_topics):\n",
    "    top_words = lda_model.show_topic(t, topn=25)\n",
    "    top_words_per_topic.append([\", \".join([word for word, prop in top_words])])\n",
    "\n",
    "df_topics = pd.DataFrame(top_words_per_topic, columns=[\"Words\"])\n",
    "df_topics.index.names = ['Topic']\n",
    "df_topics.reset_index(inplace=True)\n",
    "df_topics['Topic'] = df_topics['Topic'].apply(lambda x: f\"Topic {x+1}\")\n",
    "\n",
    "df_topics.to_csv('lda_topic_words.csv', index=False)"
   ]
  },
  {
   "cell_type": "markdown",
   "metadata": {},
   "source": [
    "## Step3: Analyzing Engagement vs Topics"
   ]
  },
  {
   "cell_type": "markdown",
   "metadata": {},
   "source": [
    "### 3.1 Assign probability for each topic to labels for all posts in the dataset"
   ]
  },
  {
   "cell_type": "code",
   "execution_count": 25,
   "metadata": {},
   "outputs": [],
   "source": [
    "topic_weights = []\n",
    "for bow in corpus:\n",
    "    doc_topics = lda_model.get_document_topics(bow, minimum_probability=0)\n",
    "    doc_dist = [prob for _, prob in doc_topics]\n",
    "    if len(doc_dist) < 7:\n",
    "        doc_dist.extend([0] * (7 - len(doc_dist)))\n",
    "    topic_weights.append(doc_dist)\n",
    "\n",
    "df['topic_weights'] = topic_weights"
   ]
  },
  {
   "cell_type": "markdown",
   "metadata": {},
   "source": [
    "### 3.2 Sort and Segment the data based on engagement (no of comments)"
   ]
  },
  {
   "cell_type": "code",
   "execution_count": 28,
   "metadata": {},
   "outputs": [],
   "source": [
    "topics_df = pd.DataFrame(df['topic_weights'].tolist(), columns=[f'Topic {i+1}' for i in range(7)])\n",
    "df = pd.concat([df, topics_df], axis=1)\n",
    "\n",
    "df_sorted = df.sort_values(by='post_comments')\n",
    "quartile_length = len(df_sorted) // 4\n",
    "high_engagement = df_sorted.iloc[-quartile_length:]\n",
    "low_engagement = df_sorted.iloc[:quartile_length]"
   ]
  },
  {
   "cell_type": "markdown",
   "metadata": {},
   "source": [
    "### 3.3 Calculate Average Topic Weights for Each Quartile"
   ]
  },
  {
   "cell_type": "code",
   "execution_count": 30,
   "metadata": {},
   "outputs": [],
   "source": [
    "high_means = high_engagement[[f'Topic {i+1}' for i in range(7)]].mean()\n",
    "low_means = low_engagement[[f'Topic {i+1}' for i in range(7)]].mean()"
   ]
  },
  {
   "cell_type": "code",
   "execution_count": 35,
   "metadata": {},
   "outputs": [],
   "source": [
    "comparison_df = pd.DataFrame({\n",
    "    'High Engagement Avg': high_means,\n",
    "    'Low Engagement Avg': low_means\n",
    "})\n",
    "comparison_df['Difference'] = comparison_df['High Engagement Avg'] - comparison_df['Low Engagement Avg']"
   ]
  },
  {
   "cell_type": "code",
   "execution_count": 36,
   "metadata": {},
   "outputs": [],
   "source": [
    "topic_names = {\n",
    "    'Topic 1': 'Formal Events and Fashion',\n",
    "    'Topic 2': 'Personal Style and Beauty',\n",
    "    'Topic 3': 'Sports and Athletics',\n",
    "    'Topic 4': 'Outdoor and Leisure Activities',\n",
    "    'Topic 5': 'Branding and Advertising',\n",
    "    'Topic 6': 'Food and Dining',\n",
    "    'Topic 7': 'Automotive and Technology'\n",
    "}\n",
    "\n",
    "comparison_df['Topic'] = comparison_df.index\n",
    "comparison_df = comparison_df.reset_index(drop=True)\n",
    "comparison_df['Topic'] = comparison_df['Topic'].map(topic_names)\n",
    "comparison_df = comparison_df[['Topic', 'High Engagement Avg', 'Low Engagement Avg', 'Difference']]"
   ]
  },
  {
   "cell_type": "code",
   "execution_count": 37,
   "metadata": {},
   "outputs": [
    {
     "data": {
      "text/html": [
       "<div>\n",
       "<style scoped>\n",
       "    .dataframe tbody tr th:only-of-type {\n",
       "        vertical-align: middle;\n",
       "    }\n",
       "\n",
       "    .dataframe tbody tr th {\n",
       "        vertical-align: top;\n",
       "    }\n",
       "\n",
       "    .dataframe thead th {\n",
       "        text-align: right;\n",
       "    }\n",
       "</style>\n",
       "<table border=\"1\" class=\"dataframe\">\n",
       "  <thead>\n",
       "    <tr style=\"text-align: right;\">\n",
       "      <th></th>\n",
       "      <th>Topic</th>\n",
       "      <th>High Engagement Avg</th>\n",
       "      <th>Low Engagement Avg</th>\n",
       "      <th>Difference</th>\n",
       "    </tr>\n",
       "  </thead>\n",
       "  <tbody>\n",
       "    <tr>\n",
       "      <th>0</th>\n",
       "      <td>Formal Events and Fashion</td>\n",
       "      <td>0.142927</td>\n",
       "      <td>0.141736</td>\n",
       "      <td>0.001191</td>\n",
       "    </tr>\n",
       "    <tr>\n",
       "      <th>1</th>\n",
       "      <td>Personal Style and Beauty</td>\n",
       "      <td>0.175599</td>\n",
       "      <td>0.219594</td>\n",
       "      <td>-0.043995</td>\n",
       "    </tr>\n",
       "    <tr>\n",
       "      <th>2</th>\n",
       "      <td>Sports and Athletics</td>\n",
       "      <td>0.204244</td>\n",
       "      <td>0.055186</td>\n",
       "      <td>0.149058</td>\n",
       "    </tr>\n",
       "    <tr>\n",
       "      <th>3</th>\n",
       "      <td>Outdoor and Leisure Activities</td>\n",
       "      <td>0.229926</td>\n",
       "      <td>0.196949</td>\n",
       "      <td>0.032977</td>\n",
       "    </tr>\n",
       "    <tr>\n",
       "      <th>4</th>\n",
       "      <td>Branding and Advertising</td>\n",
       "      <td>0.119126</td>\n",
       "      <td>0.165072</td>\n",
       "      <td>-0.045946</td>\n",
       "    </tr>\n",
       "    <tr>\n",
       "      <th>5</th>\n",
       "      <td>Food and Dining</td>\n",
       "      <td>0.068320</td>\n",
       "      <td>0.167304</td>\n",
       "      <td>-0.098984</td>\n",
       "    </tr>\n",
       "    <tr>\n",
       "      <th>6</th>\n",
       "      <td>Automotive and Technology</td>\n",
       "      <td>0.059858</td>\n",
       "      <td>0.054158</td>\n",
       "      <td>0.005699</td>\n",
       "    </tr>\n",
       "  </tbody>\n",
       "</table>\n",
       "</div>"
      ],
      "text/plain": [
       "                            Topic  High Engagement Avg  Low Engagement Avg  \\\n",
       "0       Formal Events and Fashion             0.142927            0.141736   \n",
       "1       Personal Style and Beauty             0.175599            0.219594   \n",
       "2            Sports and Athletics             0.204244            0.055186   \n",
       "3  Outdoor and Leisure Activities             0.229926            0.196949   \n",
       "4        Branding and Advertising             0.119126            0.165072   \n",
       "5                 Food and Dining             0.068320            0.167304   \n",
       "6       Automotive and Technology             0.059858            0.054158   \n",
       "\n",
       "   Difference  \n",
       "0    0.001191  \n",
       "1   -0.043995  \n",
       "2    0.149058  \n",
       "3    0.032977  \n",
       "4   -0.045946  \n",
       "5   -0.098984  \n",
       "6    0.005699  "
      ]
     },
     "execution_count": 37,
     "metadata": {},
     "output_type": "execute_result"
    }
   ],
   "source": [
    "comparison_df"
   ]
  }
 ],
 "metadata": {
  "kernelspec": {
   "display_name": "insy670-env2",
   "language": "python",
   "name": "python3"
  },
  "language_info": {
   "codemirror_mode": {
    "name": "ipython",
    "version": 3
   },
   "file_extension": ".py",
   "mimetype": "text/x-python",
   "name": "python",
   "nbconvert_exporter": "python",
   "pygments_lexer": "ipython3",
   "version": "3.12.2"
  }
 },
 "nbformat": 4,
 "nbformat_minor": 2
}
